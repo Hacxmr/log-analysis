{
  "nbformat": 4,
  "nbformat_minor": 0,
  "metadata": {
    "colab": {
      "provenance": [],
      "authorship_tag": "ABX9TyNNQWCCitb986pQBSuaz4QA",
      "include_colab_link": true
    },
    "kernelspec": {
      "name": "python3",
      "display_name": "Python 3"
    },
    "language_info": {
      "name": "python"
    }
  },
  "cells": [
    {
      "cell_type": "markdown",
      "metadata": {
        "id": "view-in-github",
        "colab_type": "text"
      },
      "source": [
        "<a href=\"https://colab.research.google.com/github/Hacxmr/log-analysis/blob/main/Kyoto_2006.ipynb\" target=\"_parent\"><img src=\"https://colab.research.google.com/assets/colab-badge.svg\" alt=\"Open In Colab\"/></a>"
      ]
    },
    {
      "cell_type": "code",
      "execution_count": 1,
      "metadata": {
        "id": "DOWAAvX65kDe",
        "colab": {
          "base_uri": "https://localhost:8080/"
        },
        "outputId": "bb430271-e128-481d-d186-d86461f8b884"
      },
      "outputs": [
        {
          "output_type": "stream",
          "name": "stdout",
          "text": [
            "Requirement already satisfied: pandas in /usr/local/lib/python3.11/dist-packages (2.2.2)\n",
            "Requirement already satisfied: numpy in /usr/local/lib/python3.11/dist-packages (2.0.2)\n",
            "Requirement already satisfied: tensorflow in /usr/local/lib/python3.11/dist-packages (2.18.0)\n",
            "Requirement already satisfied: scikit-learn in /usr/local/lib/python3.11/dist-packages (1.6.1)\n",
            "Requirement already satisfied: matplotlib in /usr/local/lib/python3.11/dist-packages (3.10.0)\n",
            "Requirement already satisfied: seaborn in /usr/local/lib/python3.11/dist-packages (0.13.2)\n",
            "Requirement already satisfied: tqdm in /usr/local/lib/python3.11/dist-packages (4.67.1)\n",
            "Requirement already satisfied: python-dateutil>=2.8.2 in /usr/local/lib/python3.11/dist-packages (from pandas) (2.9.0.post0)\n",
            "Requirement already satisfied: pytz>=2020.1 in /usr/local/lib/python3.11/dist-packages (from pandas) (2025.2)\n",
            "Requirement already satisfied: tzdata>=2022.7 in /usr/local/lib/python3.11/dist-packages (from pandas) (2025.2)\n",
            "Requirement already satisfied: absl-py>=1.0.0 in /usr/local/lib/python3.11/dist-packages (from tensorflow) (1.4.0)\n",
            "Requirement already satisfied: astunparse>=1.6.0 in /usr/local/lib/python3.11/dist-packages (from tensorflow) (1.6.3)\n",
            "Requirement already satisfied: flatbuffers>=24.3.25 in /usr/local/lib/python3.11/dist-packages (from tensorflow) (25.2.10)\n",
            "Requirement already satisfied: gast!=0.5.0,!=0.5.1,!=0.5.2,>=0.2.1 in /usr/local/lib/python3.11/dist-packages (from tensorflow) (0.6.0)\n",
            "Requirement already satisfied: google-pasta>=0.1.1 in /usr/local/lib/python3.11/dist-packages (from tensorflow) (0.2.0)\n",
            "Requirement already satisfied: libclang>=13.0.0 in /usr/local/lib/python3.11/dist-packages (from tensorflow) (18.1.1)\n",
            "Requirement already satisfied: opt-einsum>=2.3.2 in /usr/local/lib/python3.11/dist-packages (from tensorflow) (3.4.0)\n",
            "Requirement already satisfied: packaging in /usr/local/lib/python3.11/dist-packages (from tensorflow) (24.2)\n",
            "Requirement already satisfied: protobuf!=4.21.0,!=4.21.1,!=4.21.2,!=4.21.3,!=4.21.4,!=4.21.5,<6.0.0dev,>=3.20.3 in /usr/local/lib/python3.11/dist-packages (from tensorflow) (5.29.5)\n",
            "Requirement already satisfied: requests<3,>=2.21.0 in /usr/local/lib/python3.11/dist-packages (from tensorflow) (2.32.3)\n",
            "Requirement already satisfied: setuptools in /usr/local/lib/python3.11/dist-packages (from tensorflow) (75.2.0)\n",
            "Requirement already satisfied: six>=1.12.0 in /usr/local/lib/python3.11/dist-packages (from tensorflow) (1.17.0)\n",
            "Requirement already satisfied: termcolor>=1.1.0 in /usr/local/lib/python3.11/dist-packages (from tensorflow) (3.1.0)\n",
            "Requirement already satisfied: typing-extensions>=3.6.6 in /usr/local/lib/python3.11/dist-packages (from tensorflow) (4.14.0)\n",
            "Requirement already satisfied: wrapt>=1.11.0 in /usr/local/lib/python3.11/dist-packages (from tensorflow) (1.17.2)\n",
            "Requirement already satisfied: grpcio<2.0,>=1.24.3 in /usr/local/lib/python3.11/dist-packages (from tensorflow) (1.72.1)\n",
            "Requirement already satisfied: tensorboard<2.19,>=2.18 in /usr/local/lib/python3.11/dist-packages (from tensorflow) (2.18.0)\n",
            "Requirement already satisfied: keras>=3.5.0 in /usr/local/lib/python3.11/dist-packages (from tensorflow) (3.8.0)\n",
            "Requirement already satisfied: h5py>=3.11.0 in /usr/local/lib/python3.11/dist-packages (from tensorflow) (3.13.0)\n",
            "Requirement already satisfied: ml-dtypes<0.5.0,>=0.4.0 in /usr/local/lib/python3.11/dist-packages (from tensorflow) (0.4.1)\n",
            "Requirement already satisfied: tensorflow-io-gcs-filesystem>=0.23.1 in /usr/local/lib/python3.11/dist-packages (from tensorflow) (0.37.1)\n",
            "Requirement already satisfied: scipy>=1.6.0 in /usr/local/lib/python3.11/dist-packages (from scikit-learn) (1.15.3)\n",
            "Requirement already satisfied: joblib>=1.2.0 in /usr/local/lib/python3.11/dist-packages (from scikit-learn) (1.5.1)\n",
            "Requirement already satisfied: threadpoolctl>=3.1.0 in /usr/local/lib/python3.11/dist-packages (from scikit-learn) (3.6.0)\n",
            "Requirement already satisfied: contourpy>=1.0.1 in /usr/local/lib/python3.11/dist-packages (from matplotlib) (1.3.2)\n",
            "Requirement already satisfied: cycler>=0.10 in /usr/local/lib/python3.11/dist-packages (from matplotlib) (0.12.1)\n",
            "Requirement already satisfied: fonttools>=4.22.0 in /usr/local/lib/python3.11/dist-packages (from matplotlib) (4.58.1)\n",
            "Requirement already satisfied: kiwisolver>=1.3.1 in /usr/local/lib/python3.11/dist-packages (from matplotlib) (1.4.8)\n",
            "Requirement already satisfied: pillow>=8 in /usr/local/lib/python3.11/dist-packages (from matplotlib) (11.2.1)\n",
            "Requirement already satisfied: pyparsing>=2.3.1 in /usr/local/lib/python3.11/dist-packages (from matplotlib) (3.2.3)\n",
            "Requirement already satisfied: wheel<1.0,>=0.23.0 in /usr/local/lib/python3.11/dist-packages (from astunparse>=1.6.0->tensorflow) (0.45.1)\n",
            "Requirement already satisfied: rich in /usr/local/lib/python3.11/dist-packages (from keras>=3.5.0->tensorflow) (13.9.4)\n",
            "Requirement already satisfied: namex in /usr/local/lib/python3.11/dist-packages (from keras>=3.5.0->tensorflow) (0.1.0)\n",
            "Requirement already satisfied: optree in /usr/local/lib/python3.11/dist-packages (from keras>=3.5.0->tensorflow) (0.16.0)\n",
            "Requirement already satisfied: charset-normalizer<4,>=2 in /usr/local/lib/python3.11/dist-packages (from requests<3,>=2.21.0->tensorflow) (3.4.2)\n",
            "Requirement already satisfied: idna<4,>=2.5 in /usr/local/lib/python3.11/dist-packages (from requests<3,>=2.21.0->tensorflow) (3.10)\n",
            "Requirement already satisfied: urllib3<3,>=1.21.1 in /usr/local/lib/python3.11/dist-packages (from requests<3,>=2.21.0->tensorflow) (2.4.0)\n",
            "Requirement already satisfied: certifi>=2017.4.17 in /usr/local/lib/python3.11/dist-packages (from requests<3,>=2.21.0->tensorflow) (2025.4.26)\n",
            "Requirement already satisfied: markdown>=2.6.8 in /usr/local/lib/python3.11/dist-packages (from tensorboard<2.19,>=2.18->tensorflow) (3.8)\n",
            "Requirement already satisfied: tensorboard-data-server<0.8.0,>=0.7.0 in /usr/local/lib/python3.11/dist-packages (from tensorboard<2.19,>=2.18->tensorflow) (0.7.2)\n",
            "Requirement already satisfied: werkzeug>=1.0.1 in /usr/local/lib/python3.11/dist-packages (from tensorboard<2.19,>=2.18->tensorflow) (3.1.3)\n",
            "Requirement already satisfied: MarkupSafe>=2.1.1 in /usr/local/lib/python3.11/dist-packages (from werkzeug>=1.0.1->tensorboard<2.19,>=2.18->tensorflow) (3.0.2)\n",
            "Requirement already satisfied: markdown-it-py>=2.2.0 in /usr/local/lib/python3.11/dist-packages (from rich->keras>=3.5.0->tensorflow) (3.0.0)\n",
            "Requirement already satisfied: pygments<3.0.0,>=2.13.0 in /usr/local/lib/python3.11/dist-packages (from rich->keras>=3.5.0->tensorflow) (2.19.1)\n",
            "Requirement already satisfied: mdurl~=0.1 in /usr/local/lib/python3.11/dist-packages (from markdown-it-py>=2.2.0->rich->keras>=3.5.0->tensorflow) (0.1.2)\n"
          ]
        }
      ],
      "source": [
        "!pip install pandas numpy tensorflow scikit-learn matplotlib seaborn tqdm"
      ]
    },
    {
      "cell_type": "code",
      "source": [
        "import pandas as pd\n",
        "import glob\n",
        "import os\n",
        "\n",
        "# Use '**/*.txt' and recursive=True to include subfolders\n",
        "data_path = '/content/kyoto_2006/**/*.txt'\n",
        "all_files = glob.glob(data_path, recursive=True)\n",
        "\n",
        "print(\"Number of .txt files found:\", len(all_files))\n",
        "\n",
        "df_list = []\n",
        "for file in all_files:\n",
        "    try:\n",
        "        print(f\"Reading: {os.path.basename(file)}\")\n",
        "        temp_df = pd.read_csv(file, sep='\\t', header=None, engine='python', on_bad_lines='skip')\n",
        "        df_list.append(temp_df)\n",
        "    except Exception as e:\n",
        "        print(f\"Failed to read {file}: {e}\")\n",
        "\n",
        "# Combine all into one DataFrame\n",
        "if df_list:\n",
        "    df = pd.concat(df_list, ignore_index=True)\n",
        "    print(\"✅ Loaded DataFrame with rows:\", len(df))\n",
        "else:\n",
        "    print(\"❌ No files were loaded. Check file structure or permissions.\")\n"
      ],
      "metadata": {
        "id": "XM-3a5NV52Hl",
        "colab": {
          "base_uri": "https://localhost:8080/"
        },
        "outputId": "d565e053-a31e-4a0b-a2b5-484fe3cd0eea"
      },
      "execution_count": 2,
      "outputs": [
        {
          "output_type": "stream",
          "name": "stdout",
          "text": [
            "Number of .txt files found: 61\n",
            "Reading: 20061209.txt\n",
            "Reading: 20061210.txt\n",
            "Reading: 20061204.txt\n",
            "Reading: 20061215.txt\n",
            "Reading: 20061212.txt\n",
            "Reading: 20061223.txt\n",
            "Reading: 20061208.txt\n",
            "Reading: 20061203.txt\n",
            "Reading: 20061213.txt\n",
            "Reading: 20061224.txt\n",
            "Reading: 20061219.txt\n",
            "Reading: 20061205.txt\n",
            "Reading: 20061229.txt\n",
            "Reading: 20061227.txt\n",
            "Reading: 20061220.txt\n",
            "Reading: 20061231.txt\n",
            "Reading: 20061217.txt\n",
            "Reading: 20061226.txt\n",
            "Reading: 20061222.txt\n",
            "Reading: 20061201.txt\n",
            "Reading: 20061206.txt\n",
            "Reading: 20061221.txt\n",
            "Reading: 20061225.txt\n",
            "Reading: 20061202.txt\n",
            "Reading: 20061207.txt\n",
            "Reading: 20061228.txt\n",
            "Reading: 20061214.txt\n",
            "Reading: 20061230.txt\n",
            "Reading: 20061216.txt\n",
            "Reading: 20061218.txt\n",
            "Reading: 20061211.txt\n",
            "Reading: 20061106.txt\n",
            "Reading: 20061125.txt\n",
            "Reading: 20061123.txt\n",
            "Reading: 20061117.txt\n",
            "Reading: 20061105.txt\n",
            "Reading: 20061115.txt\n",
            "Reading: 20061111.txt\n",
            "Reading: 20061126.txt\n",
            "Reading: 20061103.txt\n",
            "Reading: 20061129.txt\n",
            "Reading: 20061114.txt\n",
            "Reading: 20061108.txt\n",
            "Reading: 20061127.txt\n",
            "Reading: 20061120.txt\n",
            "Reading: 20061101.txt\n",
            "Reading: 20061130.txt\n",
            "Reading: 20061113.txt\n",
            "Reading: 20061118.txt\n",
            "Reading: 20061116.txt\n",
            "Reading: 20061107.txt\n",
            "Reading: 20061121.txt\n",
            "Reading: 20061122.txt\n",
            "Reading: 20061119.txt\n",
            "Reading: 20061110.txt\n",
            "Reading: 20061102.txt\n",
            "Reading: 20061128.txt\n",
            "Reading: 20061124.txt\n",
            "Reading: 20061112.txt\n",
            "Reading: 20061104.txt\n",
            "Reading: 20061109.txt\n",
            "✅ Loaded DataFrame with rows: 4137899\n"
          ]
        }
      ]
    },
    {
      "cell_type": "code",
      "source": [
        "print(df.head(3))"
      ],
      "metadata": {
        "id": "fAA-3e-W5304",
        "colab": {
          "base_uri": "https://localhost:8080/"
        },
        "outputId": "313575a1-77fc-44cb-a665-1755c7c74f2c"
      },
      "execution_count": 3,
      "outputs": [
        {
          "output_type": "stream",
          "name": "stdout",
          "text": [
            "             0      1       2   3   4    5    6    7   8    9   ...  14  15  \\\n",
            "0      1.252083  other     923  93   0  0.0  0.0  0.0   1    3  ...   0   0   \n",
            "1      0.000000  other       0   0   0  0.0  0.0  0.0   0  100  ...   0   0   \n",
            "2  86363.919543  other  254104   0   0  0.0  0.0  0.0   0    0  ...   0   0   \n",
            "\n",
            "   16 17                                       18     19  \\\n",
            "0   0  1  fda2:69aa:1f1a:8237:35f2:4d70:6362:4db0   3626   \n",
            "1   0 -1  fda2:69aa:1f1a:92ff:388d:17e2:6ad4:37d1   6098   \n",
            "2   0 -1  fda2:69aa:1f1a:977f:7df7:27d9:0737:2857  32770   \n",
            "\n",
            "                                        20    21        22   23  \n",
            "0  fda2:69aa:1f1a:b129:7d66:2701:078b:0f1e    25  00:00:03  tcp  \n",
            "1  fda2:69aa:1f1a:38e1:7d58:27fb:6040:273c  3922  00:00:12  udp  \n",
            "2  fda2:69aa:1f1a:7e8b:10eb:015a:0299:2af2  8649  00:00:15  udp  \n",
            "\n",
            "[3 rows x 24 columns]\n"
          ]
        }
      ]
    },
    {
      "cell_type": "code",
      "source": [
        "print(\"Number of columns:\", df.shape[1])\n",
        "print(df.head(3))\n"
      ],
      "metadata": {
        "colab": {
          "base_uri": "https://localhost:8080/"
        },
        "id": "JdUeaPzpB65l",
        "outputId": "4eb26695-4b19-4ac2-c753-f7613a888758"
      },
      "execution_count": 4,
      "outputs": [
        {
          "output_type": "stream",
          "name": "stdout",
          "text": [
            "Number of columns: 24\n",
            "             0      1       2   3   4    5    6    7   8    9   ...  14  15  \\\n",
            "0      1.252083  other     923  93   0  0.0  0.0  0.0   1    3  ...   0   0   \n",
            "1      0.000000  other       0   0   0  0.0  0.0  0.0   0  100  ...   0   0   \n",
            "2  86363.919543  other  254104   0   0  0.0  0.0  0.0   0    0  ...   0   0   \n",
            "\n",
            "   16 17                                       18     19  \\\n",
            "0   0  1  fda2:69aa:1f1a:8237:35f2:4d70:6362:4db0   3626   \n",
            "1   0 -1  fda2:69aa:1f1a:92ff:388d:17e2:6ad4:37d1   6098   \n",
            "2   0 -1  fda2:69aa:1f1a:977f:7df7:27d9:0737:2857  32770   \n",
            "\n",
            "                                        20    21        22   23  \n",
            "0  fda2:69aa:1f1a:b129:7d66:2701:078b:0f1e    25  00:00:03  tcp  \n",
            "1  fda2:69aa:1f1a:38e1:7d58:27fb:6040:273c  3922  00:00:12  udp  \n",
            "2  fda2:69aa:1f1a:7e8b:10eb:015a:0299:2af2  8649  00:00:15  udp  \n",
            "\n",
            "[3 rows x 24 columns]\n"
          ]
        }
      ]
    },
    {
      "cell_type": "code",
      "source": [
        "import pandas as pd\n",
        "import glob\n",
        "import os\n",
        "import numpy as np\n",
        "\n",
        "data_path = '/content/kyoto_2006/**/*.txt'\n",
        "all_files = glob.glob(data_path, recursive=True)\n",
        "\n",
        "df_list = []\n",
        "for file in all_files:\n",
        "    try:\n",
        "        temp_df = pd.read_csv(file, sep='\\t', header=None, engine='python', on_bad_lines='skip', dtype=str)\n",
        "        if temp_df.shape[1] == 24:\n",
        "            df_list.append(temp_df)\n",
        "    except Exception as e:\n",
        "        print(f\"Error reading {file}: {e}\")\n",
        "\n",
        "df = pd.concat(df_list, ignore_index=True)\n",
        "print(\"✅ Loaded shape:\", df.shape)\n"
      ],
      "metadata": {
        "colab": {
          "base_uri": "https://localhost:8080/"
        },
        "id": "354KKBLICEC_",
        "outputId": "214c850e-ab56-4c4a-8d81-87745b4c25e2"
      },
      "execution_count": 5,
      "outputs": [
        {
          "output_type": "stream",
          "name": "stdout",
          "text": [
            "✅ Loaded shape: (4137899, 24)\n"
          ]
        }
      ]
    },
    {
      "cell_type": "code",
      "source": [
        "from tensorflow.keras.utils import to_categorical\n",
        "# Set column names (shortened for readability)\n",
        "df.columns = [f'col{i}' for i in range(24)]\n",
        "\n",
        "# Convert numeric columns to float\n",
        "numeric_cols = ['col0', 'col2', 'col3', 'col4', 'col5', 'col6', 'col7', 'col8', 'col9', 'col10', 'col11', 'col15', 'col16', 'col19', 'col21']\n",
        "for col in numeric_cols:\n",
        "    df[col] = pd.to_numeric(df[col], errors='coerce')\n",
        "\n",
        "# Drop rows with missing critical numeric values\n",
        "df.dropna(subset=numeric_cols + ['col17'], inplace=True)\n",
        "\n",
        "# Extract X and y\n",
        "X = df[numeric_cols].astype(float).values\n",
        "df['label'] = df['col17'].astype(int).map({-2: 0, -1: 1, 1: 2})  # 0=Unknown, 1=Known, 2=Normal\n",
        "\n",
        "y = to_categorical(df['label'], num_classes=3)\n",
        "\n"
      ],
      "metadata": {
        "id": "OSySLyhkCQBw"
      },
      "execution_count": 6,
      "outputs": []
    },
    {
      "cell_type": "code",
      "source": [
        "from sklearn.model_selection import train_test_split\n",
        "from sklearn.preprocessing import StandardScaler\n",
        "from tensorflow.keras.models import Sequential\n",
        "from tensorflow.keras.layers import Dense, Dropout\n",
        "from tensorflow.keras.utils import to_categorical\n",
        "\n",
        "# Split and scale\n",
        "X_train, X_test, y_train, y_test = train_test_split(X, y, test_size=0.2, random_state=42)\n",
        "scaler = StandardScaler()\n",
        "X_train = scaler.fit_transform(X_train)\n",
        "X_test = scaler.transform(X_test)\n",
        "\n",
        "# Model\n",
        "model = Sequential([\n",
        "    Dense(64, activation='relu', input_shape=(X_train.shape[1],)),\n",
        "    Dropout(0.3),\n",
        "    Dense(32, activation='relu'),\n",
        "    Dropout(0.2),\n",
        "    Dense(3, activation='softmax')\n",
        "])\n",
        "model.compile(optimizer='adam', loss='categorical_crossentropy', metrics=['accuracy'])\n",
        "\n",
        "# Train\n",
        "history = model.fit(X_train, y_train, validation_split=0.1, epochs=15, batch_size=128)\n"
      ],
      "metadata": {
        "colab": {
          "base_uri": "https://localhost:8080/"
        },
        "id": "LbK3WeCaCmty",
        "outputId": "ae8366b4-7b8c-4f69-cc2c-2b6d262f90ab"
      },
      "execution_count": 7,
      "outputs": [
        {
          "output_type": "stream",
          "name": "stderr",
          "text": [
            "/usr/local/lib/python3.11/dist-packages/keras/src/layers/core/dense.py:87: UserWarning: Do not pass an `input_shape`/`input_dim` argument to a layer. When using Sequential models, prefer using an `Input(shape)` object as the first layer in the model instead.\n",
            "  super().__init__(activity_regularizer=activity_regularizer, **kwargs)\n"
          ]
        },
        {
          "output_type": "stream",
          "name": "stdout",
          "text": [
            "Epoch 1/15\n",
            "\u001b[1m22617/22617\u001b[0m \u001b[32m━━━━━━━━━━━━━━━━━━━━\u001b[0m\u001b[37m\u001b[0m \u001b[1m65s\u001b[0m 3ms/step - accuracy: 0.9678 - loss: 0.0993 - val_accuracy: 0.9775 - val_loss: 0.0620\n",
            "Epoch 2/15\n",
            "\u001b[1m22617/22617\u001b[0m \u001b[32m━━━━━━━━━━━━━━━━━━━━\u001b[0m\u001b[37m\u001b[0m \u001b[1m60s\u001b[0m 3ms/step - accuracy: 0.9764 - loss: 0.0675 - val_accuracy: 0.9787 - val_loss: 0.0578\n",
            "Epoch 3/15\n",
            "\u001b[1m22617/22617\u001b[0m \u001b[32m━━━━━━━━━━━━━━━━━━━━\u001b[0m\u001b[37m\u001b[0m \u001b[1m87s\u001b[0m 3ms/step - accuracy: 0.9776 - loss: 0.0656 - val_accuracy: 0.9788 - val_loss: 0.0556\n",
            "Epoch 4/15\n",
            "\u001b[1m22617/22617\u001b[0m \u001b[32m━━━━━━━━━━━━━━━━━━━━\u001b[0m\u001b[37m\u001b[0m \u001b[1m59s\u001b[0m 3ms/step - accuracy: 0.9783 - loss: 0.0621 - val_accuracy: 0.9810 - val_loss: 0.0557\n",
            "Epoch 5/15\n",
            "\u001b[1m22617/22617\u001b[0m \u001b[32m━━━━━━━━━━━━━━━━━━━━\u001b[0m\u001b[37m\u001b[0m \u001b[1m59s\u001b[0m 3ms/step - accuracy: 0.9786 - loss: 0.0653 - val_accuracy: 0.9800 - val_loss: 0.0551\n",
            "Epoch 6/15\n",
            "\u001b[1m22617/22617\u001b[0m \u001b[32m━━━━━━━━━━━━━━━━━━━━\u001b[0m\u001b[37m\u001b[0m \u001b[1m56s\u001b[0m 2ms/step - accuracy: 0.9788 - loss: 0.0667 - val_accuracy: 0.9787 - val_loss: 0.0555\n",
            "Epoch 7/15\n",
            "\u001b[1m22617/22617\u001b[0m \u001b[32m━━━━━━━━━━━━━━━━━━━━\u001b[0m\u001b[37m\u001b[0m \u001b[1m57s\u001b[0m 3ms/step - accuracy: 0.9791 - loss: 0.0621 - val_accuracy: 0.9796 - val_loss: 0.0536\n",
            "Epoch 8/15\n",
            "\u001b[1m22617/22617\u001b[0m \u001b[32m━━━━━━━━━━━━━━━━━━━━\u001b[0m\u001b[37m\u001b[0m \u001b[1m58s\u001b[0m 3ms/step - accuracy: 0.9794 - loss: 0.0627 - val_accuracy: 0.9821 - val_loss: 0.0513\n",
            "Epoch 9/15\n",
            "\u001b[1m22617/22617\u001b[0m \u001b[32m━━━━━━━━━━━━━━━━━━━━\u001b[0m\u001b[37m\u001b[0m \u001b[1m80s\u001b[0m 2ms/step - accuracy: 0.9794 - loss: 0.0598 - val_accuracy: 0.9806 - val_loss: 0.0523\n",
            "Epoch 10/15\n",
            "\u001b[1m22617/22617\u001b[0m \u001b[32m━━━━━━━━━━━━━━━━━━━━\u001b[0m\u001b[37m\u001b[0m \u001b[1m57s\u001b[0m 3ms/step - accuracy: 0.9798 - loss: 0.0588 - val_accuracy: 0.9799 - val_loss: 0.0522\n",
            "Epoch 11/15\n",
            "\u001b[1m22617/22617\u001b[0m \u001b[32m━━━━━━━━━━━━━━━━━━━━\u001b[0m\u001b[37m\u001b[0m \u001b[1m86s\u001b[0m 3ms/step - accuracy: 0.9798 - loss: 0.0576 - val_accuracy: 0.9810 - val_loss: 0.0526\n",
            "Epoch 12/15\n",
            "\u001b[1m22617/22617\u001b[0m \u001b[32m━━━━━━━━━━━━━━━━━━━━\u001b[0m\u001b[37m\u001b[0m \u001b[1m61s\u001b[0m 3ms/step - accuracy: 0.9796 - loss: 0.0594 - val_accuracy: 0.9807 - val_loss: 0.0525\n",
            "Epoch 13/15\n",
            "\u001b[1m22617/22617\u001b[0m \u001b[32m━━━━━━━━━━━━━━━━━━━━\u001b[0m\u001b[37m\u001b[0m \u001b[1m82s\u001b[0m 3ms/step - accuracy: 0.9801 - loss: 0.0585 - val_accuracy: 0.9790 - val_loss: 0.0551\n",
            "Epoch 14/15\n",
            "\u001b[1m22617/22617\u001b[0m \u001b[32m━━━━━━━━━━━━━━━━━━━━\u001b[0m\u001b[37m\u001b[0m \u001b[1m61s\u001b[0m 3ms/step - accuracy: 0.9799 - loss: 0.0624 - val_accuracy: 0.9803 - val_loss: 0.0503\n",
            "Epoch 15/15\n",
            "\u001b[1m22617/22617\u001b[0m \u001b[32m━━━━━━━━━━━━━━━━━━━━\u001b[0m\u001b[37m\u001b[0m \u001b[1m58s\u001b[0m 3ms/step - accuracy: 0.9803 - loss: 0.0583 - val_accuracy: 0.9809 - val_loss: 0.0504\n"
          ]
        }
      ]
    },
    {
      "cell_type": "code",
      "source": [
        "loss, acc = model.evaluate(X_test, y_test)\n",
        "print(f\"🎯 Test Accuracy: {acc:.4f}\")\n"
      ],
      "metadata": {
        "colab": {
          "base_uri": "https://localhost:8080/"
        },
        "id": "VXfMXkNuC5-J",
        "outputId": "7a3afa53-e70e-4b9e-ed79-0405fefd5974"
      },
      "execution_count": 8,
      "outputs": [
        {
          "output_type": "stream",
          "name": "stdout",
          "text": [
            "\u001b[1m25130/25130\u001b[0m \u001b[32m━━━━━━━━━━━━━━━━━━━━\u001b[0m\u001b[37m\u001b[0m \u001b[1m50s\u001b[0m 2ms/step - accuracy: 0.9807 - loss: 0.0518\n",
            "🎯 Test Accuracy: 0.9809\n"
          ]
        }
      ]
    },
    {
      "cell_type": "code",
      "source": [
        "import matplotlib.pyplot as plt\n",
        "\n",
        "plt.plot(history.history['accuracy'], label='Train')\n",
        "plt.plot(history.history['val_accuracy'], label='Val')\n",
        "plt.title('Model Accuracy')\n",
        "plt.xlabel('Epoch')\n",
        "plt.ylabel('Accuracy')\n",
        "plt.legend()\n",
        "plt.show()\n"
      ],
      "metadata": {
        "colab": {
          "base_uri": "https://localhost:8080/",
          "height": 472
        },
        "id": "xPDenHGAG4WL",
        "outputId": "93bb4e81-8d27-46ff-e505-fe011a5fcc53"
      },
      "execution_count": 9,
      "outputs": [
        {
          "output_type": "display_data",
          "data": {
            "text/plain": [
              "<Figure size 640x480 with 1 Axes>"
            ],
            "image/png": "[encoded data removed]"
          },
          "metadata": {}
        }
      ]
    }
  ]
}