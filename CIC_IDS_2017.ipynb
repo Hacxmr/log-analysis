{
  "nbformat": 4,
  "nbformat_minor": 0,
  "metadata": {
    "colab": {
      "provenance": [],
      "gpuType": "T4",
      "authorship_tag": "ABX9TyPo7K4gYi/5Becz2T1OnDSB",
      "include_colab_link": true
    },
    "kernelspec": {
      "name": "python3",
      "display_name": "Python 3"
    },
    "language_info": {
      "name": "python"
    }
  },
  "cells": [
    {
      "cell_type": "markdown",
      "metadata": {
        "id": "view-in-github",
        "colab_type": "text"
      },
      "source": [
        "<a href=\"https://colab.research.google.com/github/Hacxmr/log-analysis/blob/main/CIC_IDS_2017.ipynb\" target=\"_parent\"><img src=\"https://colab.research.google.com/assets/colab-badge.svg\" alt=\"Open In Colab\"/></a>"
      ]
    },
    {
      "cell_type": "code",
      "execution_count": 2,
      "metadata": {
        "id": "EUvHMmvH4zoB"
      },
      "outputs": [],
      "source": [
        "!pip install -q imblearn xgboost pydot graphviz"
      ]
    },
    {
      "cell_type": "code",
      "source": [
        "import pandas as pd\n",
        "import os\n",
        "import gc\n",
        "\n",
        "# Convert CSVs to a single Parquet file (ONE-TIME)\n",
        "path = \"datasets/\"\n",
        "files = [os.path.join(path, f) for f in os.listdir(path) if f.endswith('.csv')]\n",
        "\n",
        "df_list = []\n",
        "for file in files:\n",
        "    print(f\"Reading {file}\")\n",
        "    temp_df = pd.read_csv(file, low_memory=False)\n",
        "    df_list.append(temp_df)\n",
        "    del temp_df\n",
        "    gc.collect()\n",
        "\n",
        "df = pd.concat(df_list, ignore_index=True)\n",
        "del df_list\n",
        "gc.collect()\n",
        "\n",
        "# Save to Parquet\n",
        "df.to_parquet(\"CIC_IDS_2017.parquet\", engine='pyarrow')\n",
        "print(\"Saved as Parquet successfully!\")\n"
      ],
      "metadata": {
        "colab": {
          "base_uri": "https://localhost:8080/"
        },
        "id": "X8kz0JfPtaT2",
        "outputId": "a1507e4d-4411-4042-ae15-5e94f999d5a8"
      },
      "execution_count": 3,
      "outputs": [
        {
          "output_type": "stream",
          "name": "stdout",
          "text": [
            "Reading datasets/Friday-WorkingHours-Morning.pcap_ISCX.csv\n",
            "Reading datasets/Tuesday-WorkingHours.pcap_ISCX.csv\n",
            "Reading datasets/Monday-WorkingHours.pcap_ISCX.csv\n",
            "Reading datasets/Friday-WorkingHours-Afternoon-DDos.pcap_ISCX.csv\n",
            "Reading datasets/Friday-WorkingHours-Afternoon-PortScan.pcap_ISCX.csv\n",
            "Reading datasets/Thursday-WorkingHours-Afternoon-Infilteration.pcap_ISCX.csv\n",
            "Reading datasets/Thursday-WorkingHours-Morning-WebAttacks.pcap_ISCX.csv\n",
            "Reading datasets/Wednesday-workingHours.pcap_ISCX.csv\n",
            "Saved as Parquet successfully!\n"
          ]
        }
      ]
    },
    {
      "cell_type": "code",
      "source": [
        "import pandas as pd\n",
        "\n",
        "# Load directly from Parquet (MUCH faster and memory optimized)\n",
        "df = pd.read_parquet(\"CIC_IDS_2017.parquet\", engine='pyarrow')\n",
        "print(\"Data loaded from Parquet. Shape:\", df.shape)\n"
      ],
      "metadata": {
        "colab": {
          "base_uri": "https://localhost:8080/"
        },
        "id": "EbRMXvSwuJ74",
        "outputId": "1fd6cc7f-f1fd-4c07-d075-f7b6ea0fffca"
      },
      "execution_count": 3,
      "outputs": [
        {
          "output_type": "stream",
          "name": "stdout",
          "text": [
            "Data loaded from Parquet. Shape: (2830743, 79)\n"
          ]
        }
      ]
    },
    {
      "cell_type": "code",
      "source": [
        "import numpy as np\n",
        "import pandas as pd\n",
        "import matplotlib.pyplot as plt\n",
        "import seaborn as sns\n",
        "import time, gc, os\n",
        "from sklearn.preprocessing import LabelEncoder, QuantileTransformer\n",
        "from sklearn.model_selection import train_test_split\n",
        "from sklearn.feature_selection import mutual_info_classif\n",
        "from sklearn.metrics import classification_report, confusion_matrix\n",
        "from imblearn.over_sampling import SMOTE\n",
        "import tensorflow as tf\n",
        "from keras.models import Sequential\n",
        "from keras.layers import Dense, Dropout, Input\n",
        "from keras.callbacks import EarlyStopping\n",
        "\n",
        "# Step 1: Load and clean the dataset\n",
        "print(\"Loading dataset from Parquet...\")\n",
        "df = pd.read_parquet(\"CIC_IDS_2017.parquet\", engine=\"pyarrow\")\n",
        "print(f\"Original shape: {df.shape}\")\n",
        "\n",
        "# Step 2: Basic cleaning\n",
        "df.columns = df.columns.str.strip()\n",
        "df.replace([np.inf, -np.inf], np.nan, inplace=True)\n",
        "df.dropna(inplace=True)\n",
        "df.drop_duplicates(inplace=True)\n",
        "print(f\"After cleaning: {df.shape}\")\n",
        "\n",
        "# Step 3: Binary label mapping\n",
        "df['Label'] = df['Label'].apply(lambda x: 'BENIGN' if x == 'BENIGN' else 'ATTACK')\n",
        "\n",
        "# Step 4: Feature and label separation\n",
        "X = df.drop('Label', axis=1)\n",
        "y = df['Label']\n",
        "\n",
        "# Select only numeric features and drop constant columns\n",
        "X = X.select_dtypes(include=[np.number])\n",
        "X = X.loc[:, X.nunique() > 1]\n",
        "\n",
        "# Encode labels as a Pandas Series with same index\n",
        "le = LabelEncoder()\n",
        "y_encoded = pd.Series(le.fit_transform(y), index=X.index)\n",
        "\n",
        "# Step 5: Mutual Information on sampled subset\n",
        "sample_frac = 0.05 if len(X) > 500_000 else 0.2\n",
        "X_sample = X.sample(frac=sample_frac, random_state=42)\n",
        "y_sample = y_encoded.loc[X_sample.index]\n",
        "\n",
        "print(\"Computing mutual information on sampled data...\")\n",
        "start_time = time.time()\n",
        "mi_scores = mutual_info_classif(X_sample, y_sample, random_state=42)\n",
        "mi_series = pd.Series(mi_scores, index=X_sample.columns).sort_values(ascending=False)\n",
        "print(f\"Mutual information computed in {time.time() - start_time:.2f} seconds\")\n",
        "\n",
        "# Step 6: Feature selection\n",
        "top_k = 30\n",
        "X = X[mi_series.head(top_k).index]\n",
        "\n",
        "# Step 7: Scale features and train-test split\n",
        "scaler = QuantileTransformer(output_distribution='normal', n_quantiles=1000, subsample=100000)\n",
        "X_scaled = scaler.fit_transform(X)\n",
        "\n",
        "X_train, X_test, y_train, y_test = train_test_split(\n",
        "    X_scaled, y_encoded, test_size=0.2, random_state=42, stratify=y_encoded\n",
        ")\n",
        "\n",
        "# Step 8: Balance with SMOTE\n",
        "print(\"Applying SMOTE...\")\n",
        "smote = SMOTE(random_state=42)\n",
        "X_train, y_train = smote.fit_resample(X_train, y_train)\n",
        "print(\"SMOTE complete. Class distribution:\", np.bincount(y_train))\n",
        "\n",
        "# Step 9: Define deep learning model\n",
        "model = Sequential([\n",
        "    Input(shape=(X_train.shape[1],)),\n",
        "    Dense(64, activation='relu'),\n",
        "    Dropout(0.3),\n",
        "    Dense(32, activation='relu'),\n",
        "    Dropout(0.2),\n",
        "    Dense(1, activation='sigmoid')\n",
        "])\n",
        "\n",
        "model.compile(\n",
        "    optimizer=tf.keras.optimizers.Adam(learning_rate=0.001),\n",
        "    loss='binary_crossentropy',\n",
        "    metrics=[\n",
        "        'accuracy',\n",
        "        tf.keras.metrics.Precision(name='precision'),\n",
        "        tf.keras.metrics.Recall(name='recall')\n",
        "    ]\n",
        ")\n",
        "\n",
        "# Step 10: Train the model\n",
        "early_stop = EarlyStopping(monitor='val_loss', patience=3, restore_best_weights=True)\n",
        "\n",
        "history = model.fit(\n",
        "    X_train, y_train,\n",
        "    validation_data=(X_test, y_test),\n",
        "    epochs=20,\n",
        "    batch_size=512,\n",
        "    callbacks=[early_stop],\n",
        "    verbose=1\n",
        ")\n",
        "\n",
        "# Step 11: Evaluate\n",
        "print(\"\\nEvaluating model on test data...\")\n",
        "y_pred_probs = model.predict(X_test)\n",
        "y_pred = (y_pred_probs > 0.5).astype(int)\n",
        "\n",
        "print(\"\\nClassification Report:\")\n",
        "print(classification_report(y_test, y_pred, target_names=le.classes_))\n",
        "\n",
        "# Step 12: Confusion Matrix\n",
        "cm = confusion_matrix(y_test, y_pred)\n",
        "plt.figure(figsize=(8, 6))\n",
        "sns.heatmap(cm, annot=True, fmt='d', cmap='Blues',\n",
        "            xticklabels=le.classes_, yticklabels=le.classes_)\n",
        "plt.xlabel(\"Predicted\")\n",
        "plt.ylabel(\"True\")\n",
        "plt.title(\"Confusion Matrix\")\n",
        "plt.show()\n"
      ],
      "metadata": {
        "colab": {
          "base_uri": "https://localhost:8080/",
          "height": 1000
        },
        "id": "ZinPtSp0yyMO",
        "outputId": "c48a910e-b2d5-44ad-8fe5-0f2be83804e7"
      },
      "execution_count": 4,
      "outputs": [
        {
          "output_type": "stream",
          "name": "stdout",
          "text": [
            "Loading dataset from Parquet...\n",
            "Original shape: (2830743, 79)\n",
            "After cleaning: (2520798, 79)\n",
            "Computing mutual information on sampled data...\n",
            "Mutual information computed in 69.82 seconds\n",
            "Applying SMOTE...\n",
            "SMOTE complete. Class distribution: [1676045 1676045]\n",
            "Epoch 1/20\n",
            "\u001b[1m6548/6548\u001b[0m \u001b[32m━━━━━━━━━━━━━━━━━━━━\u001b[0m\u001b[37m\u001b[0m \u001b[1m41s\u001b[0m 6ms/step - accuracy: 0.9614 - loss: 0.0992 - precision: 0.9645 - recall: 0.9563 - val_accuracy: 0.9950 - val_loss: 0.0177 - val_precision: 0.9974 - val_recall: 0.9965\n",
            "Epoch 2/20\n",
            "\u001b[1m6548/6548\u001b[0m \u001b[32m━━━━━━━━━━━━━━━━━━━━\u001b[0m\u001b[37m\u001b[0m \u001b[1m38s\u001b[0m 6ms/step - accuracy: 0.9909 - loss: 0.0263 - precision: 0.9892 - recall: 0.9925 - val_accuracy: 0.9960 - val_loss: 0.0146 - val_precision: 0.9978 - val_recall: 0.9974\n",
            "Epoch 3/20\n",
            "\u001b[1m6548/6548\u001b[0m \u001b[32m━━━━━━━━━━━━━━━━━━━━\u001b[0m\u001b[37m\u001b[0m \u001b[1m41s\u001b[0m 6ms/step - accuracy: 0.9921 - loss: 0.0216 - precision: 0.9907 - recall: 0.9936 - val_accuracy: 0.9966 - val_loss: 0.0121 - val_precision: 0.9978 - val_recall: 0.9981\n",
            "Epoch 4/20\n",
            "\u001b[1m6548/6548\u001b[0m \u001b[32m━━━━━━━━━━━━━━━━━━━━\u001b[0m\u001b[37m\u001b[0m \u001b[1m36s\u001b[0m 5ms/step - accuracy: 0.9924 - loss: 0.0201 - precision: 0.9911 - recall: 0.9938 - val_accuracy: 0.9965 - val_loss: 0.0131 - val_precision: 0.9981 - val_recall: 0.9977\n",
            "Epoch 5/20\n",
            "\u001b[1m6548/6548\u001b[0m \u001b[32m━━━━━━━━━━━━━━━━━━━━\u001b[0m\u001b[37m\u001b[0m \u001b[1m40s\u001b[0m 5ms/step - accuracy: 0.9928 - loss: 0.0189 - precision: 0.9916 - recall: 0.9940 - val_accuracy: 0.9963 - val_loss: 0.0131 - val_precision: 0.9983 - val_recall: 0.9972\n",
            "Epoch 6/20\n",
            "\u001b[1m6548/6548\u001b[0m \u001b[32m━━━━━━━━━━━━━━━━━━━━\u001b[0m\u001b[37m\u001b[0m \u001b[1m37s\u001b[0m 6ms/step - accuracy: 0.9929 - loss: 0.0187 - precision: 0.9916 - recall: 0.9942 - val_accuracy: 0.9966 - val_loss: 0.0123 - val_precision: 0.9982 - val_recall: 0.9977\n",
            "\n",
            "Evaluating model on test data...\n",
            "\u001b[1m15755/15755\u001b[0m \u001b[32m━━━━━━━━━━━━━━━━━━━━\u001b[0m\u001b[37m\u001b[0m \u001b[1m24s\u001b[0m 2ms/step\n",
            "\n",
            "Classification Report:\n",
            "              precision    recall  f1-score   support\n",
            "\n",
            "      ATTACK       0.99      0.99      0.99     85148\n",
            "      BENIGN       1.00      1.00      1.00    419012\n",
            "\n",
            "    accuracy                           1.00    504160\n",
            "   macro avg       0.99      0.99      0.99    504160\n",
            "weighted avg       1.00      1.00      1.00    504160\n",
            "\n"
          ]
        },
        {
          "output_type": "display_data",
          "data": {
            "text/plain": [
              "<Figure size 800x600 with 2 Axes>"
            ],
            "image/png": "[encoded data removed]"
          },
          "metadata": {}
        }
      ]
    }
  ]
}